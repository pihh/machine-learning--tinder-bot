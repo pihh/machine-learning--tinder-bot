{
 "cells": [
  {
   "cell_type": "code",
   "execution_count": 1,
   "id": "d9d64597",
   "metadata": {},
   "outputs": [],
   "source": [
    "import os\n",
    "import pynder\n",
    "#import label_profile\n",
    "import urllib.request"
   ]
  },
  {
   "cell_type": "code",
   "execution_count": 2,
   "id": "56b74c79",
   "metadata": {},
   "outputs": [
    {
     "name": "stdout",
     "output_type": "stream",
     "text": [
      "\n"
     ]
    }
   ],
   "source": [
    "\"\"\"\n",
    "current_profile_dir = 'current_profile/'\n",
    "\n",
    "\n",
    "def main():\n",
    "    XAuthToken = 'your token'\n",
    "    session = pynder.Session(XAuthToken=XAuthToken)\n",
    "    session.update_location(48.193371, 16.366072)\n",
    "    users = session.nearby_users()\n",
    "\n",
    "    for user in users:\n",
    "        input(\"start profile\")\n",
    "        photos = user.get_photos()\n",
    "        print(user.name)\n",
    "        cnt = 0\n",
    "        for photo in photos:\n",
    "            image_name = current_profile_dir + user.name + \"_\" + str(cnt) + \"_\" + str(\n",
    "                user.age) + \"_\" + user.id + \".jpg\"\n",
    "            print(image_name)\n",
    "            urllib.request.urlretrieve(photo, image_name)\n",
    "            cnt += 1\n",
    "        like = label_profile.label_all_pictures(current_profile_dir)\n",
    "        print(like)\n",
    "\n",
    "        # like or dislike based on classification outcome\n",
    "        # if like:\n",
    "        #     user.like()\n",
    "        # else:\n",
    "        #     user.dislike()\n",
    "\n",
    "        input(\"del pics\")\n",
    "        for photo in os.listdir(current_profile_dir):\n",
    "            image = current_profile_dir + photo\n",
    "            os.remove(image)\n",
    "\n",
    "\n",
    "if __name__ == \"__main__\":\n",
    "    main()\n",
    "\"\"\"\n",
    "print('')"
   ]
  },
  {
   "cell_type": "code",
   "execution_count": 3,
   "id": "71619a3e",
   "metadata": {},
   "outputs": [
    {
     "name": "stdout",
     "output_type": "stream",
     "text": [
      "inited\n"
     ]
    }
   ],
   "source": [
    "from lib.tinder_session import TinderSession"
   ]
  },
  {
   "cell_type": "code",
   "execution_count": 4,
   "id": "2fc6df84",
   "metadata": {},
   "outputs": [
    {
     "name": "stdout",
     "output_type": "stream",
     "text": [
      "[38.679, -9.1569] loc\n"
     ]
    },
    {
     "ename": "RequestError",
     "evalue": "400",
     "output_type": "error",
     "traceback": [
      "\u001b[1;31m---------------------------------------------------------------------------\u001b[0m",
      "\u001b[1;31mRequestError\u001b[0m                              Traceback (most recent call last)",
      "Cell \u001b[1;32mIn[4], line 1\u001b[0m\n\u001b[1;32m----> 1\u001b[0m session\u001b[38;5;241m=\u001b[39m \u001b[43mTinderSession\u001b[49m\u001b[43m(\u001b[49m\u001b[43m)\u001b[49m\n",
      "File \u001b[1;32m~\\Development\\ML\\image-classifier\\lib\\tinder_session.py:14\u001b[0m, in \u001b[0;36mTinderSession.__new__\u001b[1;34m(cls)\u001b[0m\n\u001b[0;32m     12\u001b[0m   \u001b[38;5;28mcls\u001b[39m\u001b[38;5;241m.\u001b[39minstance \u001b[38;5;241m=\u001b[39m \u001b[38;5;28msuper\u001b[39m(TinderSession, \u001b[38;5;28mcls\u001b[39m)\u001b[38;5;241m.\u001b[39m\u001b[38;5;21m__new__\u001b[39m(\u001b[38;5;28mcls\u001b[39m)\n\u001b[0;32m     13\u001b[0m   \u001b[38;5;28mcls\u001b[39m\u001b[38;5;241m.\u001b[39minstance\u001b[38;5;241m.\u001b[39mmyLocation()\n\u001b[1;32m---> 14\u001b[0m   \u001b[38;5;28;43mcls\u001b[39;49m\u001b[38;5;241;43m.\u001b[39;49m\u001b[43minstance\u001b[49m\u001b[38;5;241;43m.\u001b[39;49m\u001b[43mload\u001b[49m\u001b[43m(\u001b[49m\u001b[43m)\u001b[49m\n\u001b[0;32m     15\u001b[0m \u001b[38;5;28;01mreturn\u001b[39;00m \u001b[38;5;28mcls\u001b[39m\u001b[38;5;241m.\u001b[39minstance\n",
      "File \u001b[1;32m~\\Development\\ML\\image-classifier\\lib\\tinder_session.py:40\u001b[0m, in \u001b[0;36mTinderSession.load\u001b[1;34m(self)\u001b[0m\n\u001b[0;32m     37\u001b[0m session \u001b[38;5;241m=\u001b[39m pynder\u001b[38;5;241m.\u001b[39mSession(\u001b[38;5;241m594665617\u001b[39m, XAuthToken\u001b[38;5;241m=\u001b[39mXAuthToken)\n\u001b[0;32m     38\u001b[0m \u001b[38;5;66;03m#session.update_location(self.loc[0],self.loc[1])\u001b[39;00m\n\u001b[0;32m     39\u001b[0m \u001b[38;5;66;03m#38.679, -9.1569\u001b[39;00m\n\u001b[1;32m---> 40\u001b[0m \u001b[43msession\u001b[49m\u001b[38;5;241;43m.\u001b[39;49m\u001b[43mupdate_location\u001b[49m\u001b[43m(\u001b[49m\u001b[38;5;241;43m55.671865\u001b[39;49m\u001b[43m,\u001b[49m\u001b[43m \u001b[49m\u001b[38;5;241;43m12.483533\u001b[39;49m\u001b[43m)\u001b[49m\n\u001b[0;32m     41\u001b[0m \u001b[38;5;28mself\u001b[39m\u001b[38;5;241m.\u001b[39msession \u001b[38;5;241m=\u001b[39m session\n\u001b[0;32m     42\u001b[0m \u001b[38;5;28mprint\u001b[39m(session)\n",
      "File \u001b[1;32m~\\AppData\\Local\\anaconda3\\envs\\rl-ppo\\lib\\site-packages\\pynder\\session.py:38\u001b[0m, in \u001b[0;36mSession.update_location\u001b[1;34m(self, latitude, longitude)\u001b[0m\n\u001b[0;32m     37\u001b[0m \u001b[38;5;28;01mdef\u001b[39;00m \u001b[38;5;21mupdate_location\u001b[39m(\u001b[38;5;28mself\u001b[39m, latitude, longitude):\n\u001b[1;32m---> 38\u001b[0m     \u001b[38;5;28;01mreturn\u001b[39;00m \u001b[38;5;28;43mself\u001b[39;49m\u001b[38;5;241;43m.\u001b[39;49m\u001b[43m_api\u001b[49m\u001b[38;5;241;43m.\u001b[39;49m\u001b[43mping\u001b[49m\u001b[43m(\u001b[49m\u001b[43mlatitude\u001b[49m\u001b[43m,\u001b[49m\u001b[43m \u001b[49m\u001b[43mlongitude\u001b[49m\u001b[43m)\u001b[49m\n",
      "File \u001b[1;32m~\\AppData\\Local\\anaconda3\\envs\\rl-ppo\\lib\\site-packages\\pynder\\api.py:90\u001b[0m, in \u001b[0;36mTinderAPI.ping\u001b[1;34m(self, lat, lon)\u001b[0m\n\u001b[0;32m     89\u001b[0m \u001b[38;5;28;01mdef\u001b[39;00m \u001b[38;5;21mping\u001b[39m(\u001b[38;5;28mself\u001b[39m, lat, lon):\n\u001b[1;32m---> 90\u001b[0m     \u001b[38;5;28;01mreturn\u001b[39;00m \u001b[38;5;28;43mself\u001b[39;49m\u001b[38;5;241;43m.\u001b[39;49m\u001b[43m_post\u001b[49m\u001b[43m(\u001b[49m\u001b[38;5;124;43m\"\u001b[39;49m\u001b[38;5;124;43m/user/ping\u001b[39;49m\u001b[38;5;124;43m\"\u001b[39;49m\u001b[43m,\u001b[49m\u001b[43m \u001b[49m\u001b[43m{\u001b[49m\u001b[38;5;124;43m\"\u001b[39;49m\u001b[38;5;124;43mlat\u001b[39;49m\u001b[38;5;124;43m\"\u001b[39;49m\u001b[43m:\u001b[49m\u001b[43m \u001b[49m\u001b[43mlat\u001b[49m\u001b[43m,\u001b[49m\u001b[43m \u001b[49m\u001b[38;5;124;43m\"\u001b[39;49m\u001b[38;5;124;43mlon\u001b[39;49m\u001b[38;5;124;43m\"\u001b[39;49m\u001b[43m:\u001b[49m\u001b[43m \u001b[49m\u001b[43mlon\u001b[49m\u001b[43m}\u001b[49m\u001b[43m)\u001b[49m\n",
      "File \u001b[1;32m~\\AppData\\Local\\anaconda3\\envs\\rl-ppo\\lib\\site-packages\\pynder\\api.py:50\u001b[0m, in \u001b[0;36mTinderAPI._post\u001b[1;34m(self, url, data)\u001b[0m\n\u001b[0;32m     49\u001b[0m \u001b[38;5;28;01mdef\u001b[39;00m \u001b[38;5;21m_post\u001b[39m(\u001b[38;5;28mself\u001b[39m, url, data\u001b[38;5;241m=\u001b[39m{}):\n\u001b[1;32m---> 50\u001b[0m     \u001b[38;5;28;01mreturn\u001b[39;00m \u001b[38;5;28;43mself\u001b[39;49m\u001b[38;5;241;43m.\u001b[39;49m\u001b[43m_request\u001b[49m\u001b[43m(\u001b[49m\u001b[38;5;124;43m\"\u001b[39;49m\u001b[38;5;124;43mpost\u001b[39;49m\u001b[38;5;124;43m\"\u001b[39;49m\u001b[43m,\u001b[49m\u001b[43m \u001b[49m\u001b[43murl\u001b[49m\u001b[43m,\u001b[49m\u001b[43m \u001b[49m\u001b[43mdata\u001b[49m\u001b[38;5;241;43m=\u001b[39;49m\u001b[43mdata\u001b[49m\u001b[43m)\u001b[49m\n",
      "File \u001b[1;32m~\\AppData\\Local\\anaconda3\\envs\\rl-ppo\\lib\\site-packages\\pynder\\api.py:41\u001b[0m, in \u001b[0;36mTinderAPI._request\u001b[1;34m(self, method, url, data)\u001b[0m\n\u001b[0;32m     38\u001b[0m     result \u001b[38;5;241m=\u001b[39m \u001b[38;5;28mself\u001b[39m\u001b[38;5;241m.\u001b[39m_session\u001b[38;5;241m.\u001b[39mrequest(method, \u001b[38;5;28mself\u001b[39m\u001b[38;5;241m.\u001b[39m_url(\n\u001b[0;32m     39\u001b[0m         url), data\u001b[38;5;241m=\u001b[39mdata, proxies\u001b[38;5;241m=\u001b[39m\u001b[38;5;28mself\u001b[39m\u001b[38;5;241m.\u001b[39m_proxies)\n\u001b[0;32m     40\u001b[0m \u001b[38;5;28;01mif\u001b[39;00m result\u001b[38;5;241m.\u001b[39mstatus_code \u001b[38;5;241m<\u001b[39m \u001b[38;5;241m200\u001b[39m \u001b[38;5;129;01mor\u001b[39;00m result\u001b[38;5;241m.\u001b[39mstatus_code \u001b[38;5;241m>\u001b[39m\u001b[38;5;241m=\u001b[39m \u001b[38;5;241m300\u001b[39m:\n\u001b[1;32m---> 41\u001b[0m     \u001b[38;5;28;01mraise\u001b[39;00m errors\u001b[38;5;241m.\u001b[39mRequestError(result\u001b[38;5;241m.\u001b[39mstatus_code)\n\u001b[0;32m     42\u001b[0m \u001b[38;5;28;01mif\u001b[39;00m result\u001b[38;5;241m.\u001b[39mstatus_code \u001b[38;5;241m==\u001b[39m \u001b[38;5;241m201\u001b[39m \u001b[38;5;129;01mor\u001b[39;00m result\u001b[38;5;241m.\u001b[39mstatus_code \u001b[38;5;241m==\u001b[39m \u001b[38;5;241m204\u001b[39m:\n\u001b[0;32m     43\u001b[0m     \u001b[38;5;28;01mreturn\u001b[39;00m {}\n",
      "\u001b[1;31mRequestError\u001b[0m: 400"
     ]
    }
   ],
   "source": [
    "session= TinderSession()"
   ]
  },
  {
   "cell_type": "code",
   "execution_count": null,
   "id": "472d4f0c",
   "metadata": {},
   "outputs": [],
   "source": [
    "#from lib.facebook_token import FacebookSession"
   ]
  },
  {
   "cell_type": "code",
   "execution_count": null,
   "id": "2b1ab0fa",
   "metadata": {},
   "outputs": [],
   "source": [
    "#fb = FacebookSession()"
   ]
  },
  {
   "cell_type": "code",
   "execution_count": null,
   "id": "cc4347b8",
   "metadata": {},
   "outputs": [],
   "source": [
    "#FacebookSession.xauth"
   ]
  },
  {
   "cell_type": "code",
   "execution_count": null,
   "id": "9f042040",
   "metadata": {},
   "outputs": [],
   "source": [
    "session.session"
   ]
  },
  {
   "cell_type": "code",
   "execution_count": null,
   "id": "f84ea7cf",
   "metadata": {},
   "outputs": [],
   "source": [
    "for x in session.users:\n",
    "    print('ok')"
   ]
  },
  {
   "cell_type": "code",
   "execution_count": null,
   "id": "a989e817",
   "metadata": {},
   "outputs": [],
   "source": [
    "session.users"
   ]
  },
  {
   "cell_type": "code",
   "execution_count": null,
   "id": "b574e732",
   "metadata": {},
   "outputs": [],
   "source": []
  },
  {
   "cell_type": "code",
   "execution_count": 7,
   "id": "409d18ee",
   "metadata": {},
   "outputs": [
    {
     "ename": "RequestError",
     "evalue": "400",
     "output_type": "error",
     "traceback": [
      "\u001b[1;31m---------------------------------------------------------------------------\u001b[0m",
      "\u001b[1;31mRequestError\u001b[0m                              Traceback (most recent call last)",
      "Cell \u001b[1;32mIn[7], line 12\u001b[0m\n\u001b[0;32m      8\u001b[0m session \u001b[38;5;241m=\u001b[39m pynder\u001b[38;5;241m.\u001b[39mSession(facebook_id,facebook_auth_token)\n\u001b[0;32m     10\u001b[0m \u001b[38;5;66;03m#session.matches() # get users you have already been matched with\u001b[39;00m\n\u001b[0;32m     11\u001b[0m \u001b[38;5;66;03m#session.update_location(LAT, LON) # updates latitude and longitude for your profile\u001b[39;00m\n\u001b[1;32m---> 12\u001b[0m \u001b[43msession\u001b[49m\u001b[38;5;241;43m.\u001b[39;49m\u001b[43mprofile\u001b[49m\n",
      "File \u001b[1;32m~\\AppData\\Local\\anaconda3\\envs\\rl-ppo\\lib\\site-packages\\cached_property.py:36\u001b[0m, in \u001b[0;36mcached_property.__get__\u001b[1;34m(self, obj, cls)\u001b[0m\n\u001b[0;32m     33\u001b[0m \u001b[38;5;28;01mif\u001b[39;00m asyncio \u001b[38;5;129;01mand\u001b[39;00m asyncio\u001b[38;5;241m.\u001b[39miscoroutinefunction(\u001b[38;5;28mself\u001b[39m\u001b[38;5;241m.\u001b[39mfunc):\n\u001b[0;32m     34\u001b[0m     \u001b[38;5;28;01mreturn\u001b[39;00m \u001b[38;5;28mself\u001b[39m\u001b[38;5;241m.\u001b[39m_wrap_in_coroutine(obj)\n\u001b[1;32m---> 36\u001b[0m value \u001b[38;5;241m=\u001b[39m obj\u001b[38;5;241m.\u001b[39m\u001b[38;5;18m__dict__\u001b[39m[\u001b[38;5;28mself\u001b[39m\u001b[38;5;241m.\u001b[39mfunc\u001b[38;5;241m.\u001b[39m\u001b[38;5;18m__name__\u001b[39m] \u001b[38;5;241m=\u001b[39m \u001b[38;5;28;43mself\u001b[39;49m\u001b[38;5;241;43m.\u001b[39;49m\u001b[43mfunc\u001b[49m\u001b[43m(\u001b[49m\u001b[43mobj\u001b[49m\u001b[43m)\u001b[49m\n\u001b[0;32m     37\u001b[0m \u001b[38;5;28;01mreturn\u001b[39;00m value\n",
      "File \u001b[1;32m~\\AppData\\Local\\anaconda3\\envs\\rl-ppo\\lib\\site-packages\\pynder\\session.py:22\u001b[0m, in \u001b[0;36mSession.profile\u001b[1;34m(self)\u001b[0m\n\u001b[0;32m     20\u001b[0m \u001b[38;5;129m@cached_property\u001b[39m\n\u001b[0;32m     21\u001b[0m \u001b[38;5;28;01mdef\u001b[39;00m \u001b[38;5;21mprofile\u001b[39m(\u001b[38;5;28mself\u001b[39m):\n\u001b[1;32m---> 22\u001b[0m     \u001b[38;5;28;01mreturn\u001b[39;00m Profile(\u001b[38;5;28;43mself\u001b[39;49m\u001b[38;5;241;43m.\u001b[39;49m\u001b[43m_api\u001b[49m\u001b[38;5;241;43m.\u001b[39;49m\u001b[43mprofile\u001b[49m\u001b[43m(\u001b[49m\u001b[43m)\u001b[49m, \u001b[38;5;28mself\u001b[39m\u001b[38;5;241m.\u001b[39m_api)\n",
      "File \u001b[1;32m~\\AppData\\Local\\anaconda3\\envs\\rl-ppo\\lib\\site-packages\\pynder\\api.py:68\u001b[0m, in \u001b[0;36mTinderAPI.profile\u001b[1;34m(self)\u001b[0m\n\u001b[0;32m     67\u001b[0m \u001b[38;5;28;01mdef\u001b[39;00m \u001b[38;5;21mprofile\u001b[39m(\u001b[38;5;28mself\u001b[39m):\n\u001b[1;32m---> 68\u001b[0m     \u001b[38;5;28;01mreturn\u001b[39;00m \u001b[38;5;28;43mself\u001b[39;49m\u001b[38;5;241;43m.\u001b[39;49m\u001b[43m_get\u001b[49m\u001b[43m(\u001b[49m\u001b[38;5;124;43m\"\u001b[39;49m\u001b[38;5;124;43m/profile\u001b[39;49m\u001b[38;5;124;43m\"\u001b[39;49m\u001b[43m)\u001b[49m\n",
      "File \u001b[1;32m~\\AppData\\Local\\anaconda3\\envs\\rl-ppo\\lib\\site-packages\\pynder\\api.py:47\u001b[0m, in \u001b[0;36mTinderAPI._get\u001b[1;34m(self, url)\u001b[0m\n\u001b[0;32m     46\u001b[0m \u001b[38;5;28;01mdef\u001b[39;00m \u001b[38;5;21m_get\u001b[39m(\u001b[38;5;28mself\u001b[39m, url):\n\u001b[1;32m---> 47\u001b[0m     \u001b[38;5;28;01mreturn\u001b[39;00m \u001b[38;5;28;43mself\u001b[39;49m\u001b[38;5;241;43m.\u001b[39;49m\u001b[43m_request\u001b[49m\u001b[43m(\u001b[49m\u001b[38;5;124;43m\"\u001b[39;49m\u001b[38;5;124;43mget\u001b[39;49m\u001b[38;5;124;43m\"\u001b[39;49m\u001b[43m,\u001b[49m\u001b[43m \u001b[49m\u001b[43murl\u001b[49m\u001b[43m)\u001b[49m\n",
      "File \u001b[1;32m~\\AppData\\Local\\anaconda3\\envs\\rl-ppo\\lib\\site-packages\\pynder\\api.py:41\u001b[0m, in \u001b[0;36mTinderAPI._request\u001b[1;34m(self, method, url, data)\u001b[0m\n\u001b[0;32m     38\u001b[0m     result \u001b[38;5;241m=\u001b[39m \u001b[38;5;28mself\u001b[39m\u001b[38;5;241m.\u001b[39m_session\u001b[38;5;241m.\u001b[39mrequest(method, \u001b[38;5;28mself\u001b[39m\u001b[38;5;241m.\u001b[39m_url(\n\u001b[0;32m     39\u001b[0m         url), data\u001b[38;5;241m=\u001b[39mdata, proxies\u001b[38;5;241m=\u001b[39m\u001b[38;5;28mself\u001b[39m\u001b[38;5;241m.\u001b[39m_proxies)\n\u001b[0;32m     40\u001b[0m \u001b[38;5;28;01mif\u001b[39;00m result\u001b[38;5;241m.\u001b[39mstatus_code \u001b[38;5;241m<\u001b[39m \u001b[38;5;241m200\u001b[39m \u001b[38;5;129;01mor\u001b[39;00m result\u001b[38;5;241m.\u001b[39mstatus_code \u001b[38;5;241m>\u001b[39m\u001b[38;5;241m=\u001b[39m \u001b[38;5;241m300\u001b[39m:\n\u001b[1;32m---> 41\u001b[0m     \u001b[38;5;28;01mraise\u001b[39;00m errors\u001b[38;5;241m.\u001b[39mRequestError(result\u001b[38;5;241m.\u001b[39mstatus_code)\n\u001b[0;32m     42\u001b[0m \u001b[38;5;28;01mif\u001b[39;00m result\u001b[38;5;241m.\u001b[39mstatus_code \u001b[38;5;241m==\u001b[39m \u001b[38;5;241m201\u001b[39m \u001b[38;5;129;01mor\u001b[39;00m result\u001b[38;5;241m.\u001b[39mstatus_code \u001b[38;5;241m==\u001b[39m \u001b[38;5;241m204\u001b[39m:\n\u001b[0;32m     43\u001b[0m     \u001b[38;5;28;01mreturn\u001b[39;00m {}\n",
      "\u001b[1;31mRequestError\u001b[0m: 400"
     ]
    }
   ],
   "source": [
    "import pynder \n",
    "facebook_id = 5944665617\n",
    "facebook_auth_token=\"c2379dae-9f47-4a68-8c0c-81eba235091a\"\n",
    "#facebook_auth_token = \"EAAGm0PX4ZCpsBAKrtDKxUVZCQhxuRq7h8fTRa8qWzMBwffpfdccJ3wZC6gI1ru9M8Tmt7W4IYafXbyIJZAnMACi7Q5IrQ4zecF4zcOP7ZAuwyTeXK91jP3RSxbaL4N9D5SFZBSYkEG4iqhrzpqZCPaYznIxOZC7bQo024m70DPEfYSjKWYpos07Gtf2doD60iBSPnlkZCXBR7YgZDZD\"\n",
    "\n",
    "LAT = 55.671865\n",
    "LON = 12.483533\n",
    "session = pynder.Session(facebook_id,facebook_auth_token)\n",
    "\n",
    "#session.matches() # get users you have already been matched with\n",
    "#session.update_location(LAT, LON) # updates latitude and longitude for your profile\n",
    "session.profile  # your profile. If you update its attributes they will be updated on Tinder.\n",
    "#users = session.nearby_users() # returns a list of users nearby"
   ]
  },
  {
   "cell_type": "code",
   "execution_count": null,
   "id": "5b29e30e",
   "metadata": {},
   "outputs": [],
   "source": [
    "users = session.nearby_users()"
   ]
  },
  {
   "cell_type": "code",
   "execution_count": null,
   "id": "7a63ddff",
   "metadata": {},
   "outputs": [],
   "source": [
    "import itertools\n",
    "\n",
    "#session = pynder.Session(facebook_id=FBID, facebook_token=FBTOKEN)\n",
    "#users = session.nearby_users()\n",
    "for user in itertools.islice(users, 5):\n",
    "    print(user)"
   ]
  },
  {
   "cell_type": "code",
   "execution_count": null,
   "id": "5d5f8dc0",
   "metadata": {},
   "outputs": [],
   "source": [
    "x = list(users)"
   ]
  },
  {
   "cell_type": "code",
   "execution_count": null,
   "id": "dd331886",
   "metadata": {},
   "outputs": [],
   "source": [
    "x[0]"
   ]
  },
  {
   "cell_type": "code",
   "execution_count": null,
   "id": "40d752db",
   "metadata": {},
   "outputs": [],
   "source": [
    "x"
   ]
  },
  {
   "cell_type": "code",
   "execution_count": null,
   "id": "881322d7",
   "metadata": {},
   "outputs": [],
   "source": [
    "POST https://api.gotinder.com/auth --data '{\"facebook_token\": fb_token, \"facebook_id\": fb_user_id}"
   ]
  },
  {
   "cell_type": "code",
   "execution_count": 13,
   "id": "457e8e6c",
   "metadata": {},
   "outputs": [
    {
     "name": "stdout",
     "output_type": "stream",
     "text": [
      "<bound method Response.json of <Response [200]>>\n"
     ]
    }
   ],
   "source": [
    "import requests\n",
    "\n",
    "url = 'https://api.gotinder.com/auth'\n",
    "myobj = {\"token\": facebook_auth_token, \"facebook_id\": facebook_id}\n",
    "\n",
    "x = requests.post(url, json = myobj)\n",
    "\n",
    "print(x.json)"
   ]
  },
  {
   "cell_type": "code",
   "execution_count": 14,
   "id": "beaa6af4",
   "metadata": {},
   "outputs": [
    {
     "data": {
      "text/plain": [
       "<Response [200]>"
      ]
     },
     "execution_count": 14,
     "metadata": {},
     "output_type": "execute_result"
    }
   ],
   "source": [
    "x"
   ]
  },
  {
   "cell_type": "code",
   "execution_count": 15,
   "id": "82126093",
   "metadata": {},
   "outputs": [
    {
     "data": {
      "text/plain": [
       "b'OK'"
      ]
     },
     "execution_count": 15,
     "metadata": {},
     "output_type": "execute_result"
    }
   ],
   "source": [
    "x.content"
   ]
  },
  {
   "cell_type": "code",
   "execution_count": 16,
   "id": "becc8026",
   "metadata": {},
   "outputs": [
    {
     "name": "stdout",
     "output_type": "stream",
     "text": [
      "{'_content': b'OK', '_content_consumed': True, '_next': None, 'status_code': 200, 'headers': {'Content-Type': 'text/plain; charset=utf-8', 'Content-Length': '2', 'Connection': 'keep-alive', 'Date': 'Wed, 21 Jun 2023 19:15:51 GMT', 'X-Request-ID': '24a140d6-125d-4f5d-ae13-215ef4fcb0c8', 'X-Cache': 'Miss from cloudfront', 'Via': '1.1 84e82c8a6f436c18da1182c07f463906.cloudfront.net (CloudFront)', 'X-Amz-Cf-Pop': 'LIS50-C1', 'X-Amz-Cf-Id': 'EdVHGt0EhPT43lzSiO79hLE9HyjPqehYnKMJHLV6i3A7j4NOKpuLuA=='}, 'raw': <urllib3.response.HTTPResponse object at 0x0000017B42444BE0>, 'url': 'https://api.gotinder.com/auth', 'encoding': 'utf-8', 'history': [], 'reason': 'OK', 'cookies': <RequestsCookieJar[]>, 'elapsed': datetime.timedelta(seconds=1, microseconds=301770), 'request': <PreparedRequest [POST]>, 'connection': <requests.adapters.HTTPAdapter object at 0x0000017B4342E320>}\n"
     ]
    }
   ],
   "source": [
    "print(x.__dict__)"
   ]
  },
  {
   "cell_type": "code",
   "execution_count": 19,
   "id": "fee5a0cc",
   "metadata": {},
   "outputs": [
    {
     "name": "stdout",
     "output_type": "stream",
     "text": [
      "Collecting git+https://github.com/charliewolf/pynder.git@5d2104d21cdea6ad07166a45c3e91864113d6e3e"
     ]
    },
    {
     "name": "stderr",
     "output_type": "stream",
     "text": [
      "  Running command git clone --filter=blob:none --quiet https://github.com/charliewolf/pynder.git 'C:\\Users\\0101567\\AppData\\Local\\Temp\\pip-req-build-gbj9ym52'\n",
      "  Running command git rev-parse -q --verify 'sha^5d2104d21cdea6ad07166a45c3e91864113d6e3e'\n",
      "  Running command git fetch -q https://github.com/charliewolf/pynder.git 5d2104d21cdea6ad07166a45c3e91864113d6e3e\n",
      "  Running command git checkout -q 5d2104d21cdea6ad07166a45c3e91864113d6e3e\n"
     ]
    },
    {
     "name": "stdout",
     "output_type": "stream",
     "text": [
      "\n",
      "  Cloning https://github.com/charliewolf/pynder.git (to revision 5d2104d21cdea6ad07166a45c3e91864113d6e3e) to c:\\users\\0101567\\appdata\\local\\temp\\pip-req-build-gbj9ym52\n",
      "  Resolved https://github.com/charliewolf/pynder.git to commit 5d2104d21cdea6ad07166a45c3e91864113d6e3e\n",
      "  Preparing metadata (setup.py): started\n",
      "  Preparing metadata (setup.py): finished with status 'done'\n",
      "Requirement already satisfied: requests in c:\\users\\0101567\\appdata\\local\\anaconda3\\envs\\rl-ppo\\lib\\site-packages (from pynder==0.0.14) (2.28.1)\n",
      "Requirement already satisfied: python-dateutil in c:\\users\\0101567\\appdata\\local\\anaconda3\\envs\\rl-ppo\\lib\\site-packages (from pynder==0.0.14) (2.8.2)\n",
      "Requirement already satisfied: six in c:\\users\\0101567\\appdata\\local\\anaconda3\\envs\\rl-ppo\\lib\\site-packages (from pynder==0.0.14) (1.16.0)\n",
      "Requirement already satisfied: cached-property in c:\\users\\0101567\\appdata\\local\\anaconda3\\envs\\rl-ppo\\lib\\site-packages (from pynder==0.0.14) (1.5.2)\n",
      "Requirement already satisfied: charset-normalizer<3,>=2 in c:\\users\\0101567\\appdata\\local\\anaconda3\\envs\\rl-ppo\\lib\\site-packages (from requests->pynder==0.0.14) (2.1.1)\n",
      "Requirement already satisfied: idna<4,>=2.5 in c:\\users\\0101567\\appdata\\local\\anaconda3\\envs\\rl-ppo\\lib\\site-packages (from requests->pynder==0.0.14) (3.4)\n",
      "Requirement already satisfied: urllib3<1.27,>=1.21.1 in c:\\users\\0101567\\appdata\\local\\anaconda3\\envs\\rl-ppo\\lib\\site-packages (from requests->pynder==0.0.14) (1.26.13)\n",
      "Requirement already satisfied: certifi>=2017.4.17 in c:\\users\\0101567\\appdata\\local\\anaconda3\\envs\\rl-ppo\\lib\\site-packages (from requests->pynder==0.0.14) (2022.12.7)\n",
      "Building wheels for collected packages: pynder\n",
      "  Building wheel for pynder (setup.py): started\n",
      "  Building wheel for pynder (setup.py): finished with status 'done'\n",
      "  Created wheel for pynder: filename=pynder-0.0.14-py3-none-any.whl size=13181 sha256=5eaf731a9164ddbf796e100f0d06a03b37d8a8ead917bede2933aa0c2192c5f4\n",
      "  Stored in directory: c:\\users\\0101567\\appdata\\local\\pip\\cache\\wheels\\df\\d3\\b3\\18007dca0b08248c09fdf21b2273e934cb02baefcee08f7f7e\n",
      "Successfully built pynder\n",
      "Installing collected packages: pynder\n",
      "  Attempting uninstall: pynder\n",
      "    Found existing installation: pynder 0.0.13\n",
      "    Uninstalling pynder-0.0.13:\n",
      "      Successfully uninstalled pynder-0.0.13\n",
      "Successfully installed pynder-0.0.14\n",
      "Requirement already satisfied: selenium in c:\\users\\0101567\\appdata\\local\\anaconda3\\envs\\rl-ppo\\lib\\site-packages (4.10.0)\n",
      "Requirement already satisfied: urllib3[socks]<3,>=1.26 in c:\\users\\0101567\\appdata\\local\\anaconda3\\envs\\rl-ppo\\lib\\site-packages (from selenium) (1.26.13)\n",
      "Requirement already satisfied: trio~=0.17 in c:\\users\\0101567\\appdata\\local\\anaconda3\\envs\\rl-ppo\\lib\\site-packages (from selenium) (0.22.0)\n",
      "Requirement already satisfied: trio-websocket~=0.9 in c:\\users\\0101567\\appdata\\local\\anaconda3\\envs\\rl-ppo\\lib\\site-packages (from selenium) (0.10.3)\n",
      "Requirement already satisfied: certifi>=2021.10.8 in c:\\users\\0101567\\appdata\\local\\anaconda3\\envs\\rl-ppo\\lib\\site-packages (from selenium) (2022.12.7)\n",
      "Requirement already satisfied: attrs>=19.2.0 in c:\\users\\0101567\\appdata\\local\\anaconda3\\envs\\rl-ppo\\lib\\site-packages (from trio~=0.17->selenium) (22.1.0)\n",
      "Requirement already satisfied: sortedcontainers in c:\\users\\0101567\\appdata\\local\\anaconda3\\envs\\rl-ppo\\lib\\site-packages (from trio~=0.17->selenium) (2.4.0)\n",
      "Requirement already satisfied: async-generator>=1.9 in c:\\users\\0101567\\appdata\\local\\anaconda3\\envs\\rl-ppo\\lib\\site-packages (from trio~=0.17->selenium) (1.10)\n",
      "Requirement already satisfied: idna in c:\\users\\0101567\\appdata\\local\\anaconda3\\envs\\rl-ppo\\lib\\site-packages (from trio~=0.17->selenium) (3.4)\n",
      "Requirement already satisfied: outcome in c:\\users\\0101567\\appdata\\local\\anaconda3\\envs\\rl-ppo\\lib\\site-packages (from trio~=0.17->selenium) (1.2.0)\n",
      "Requirement already satisfied: sniffio in c:\\users\\0101567\\appdata\\local\\anaconda3\\envs\\rl-ppo\\lib\\site-packages (from trio~=0.17->selenium) (1.2.0)\n",
      "Requirement already satisfied: cffi>=1.14 in c:\\users\\0101567\\appdata\\local\\anaconda3\\envs\\rl-ppo\\lib\\site-packages (from trio~=0.17->selenium) (1.15.1)\n",
      "Requirement already satisfied: exceptiongroup>=1.0.0rc9 in c:\\users\\0101567\\appdata\\local\\anaconda3\\envs\\rl-ppo\\lib\\site-packages (from trio~=0.17->selenium) (1.1.1)\n",
      "Requirement already satisfied: wsproto>=0.14 in c:\\users\\0101567\\appdata\\local\\anaconda3\\envs\\rl-ppo\\lib\\site-packages (from trio-websocket~=0.9->selenium) (1.2.0)\n",
      "Requirement already satisfied: PySocks!=1.5.7,<2.0,>=1.5.6 in c:\\users\\0101567\\appdata\\local\\anaconda3\\envs\\rl-ppo\\lib\\site-packages (from urllib3[socks]<3,>=1.26->selenium) (1.7.1)\n",
      "Requirement already satisfied: pycparser in c:\\users\\0101567\\appdata\\local\\anaconda3\\envs\\rl-ppo\\lib\\site-packages (from cffi>=1.14->trio~=0.17->selenium) (2.21)\n",
      "Requirement already satisfied: h11<1,>=0.9.0 in c:\\users\\0101567\\appdata\\local\\anaconda3\\envs\\rl-ppo\\lib\\site-packages (from wsproto>=0.14->trio-websocket~=0.9->selenium) (0.14.0)\n",
      "Requirement already satisfied: webdriver-manager in c:\\users\\0101567\\appdata\\local\\anaconda3\\envs\\rl-ppo\\lib\\site-packages (3.8.6)\n",
      "Requirement already satisfied: requests in c:\\users\\0101567\\appdata\\local\\anaconda3\\envs\\rl-ppo\\lib\\site-packages (from webdriver-manager) (2.28.1)\n",
      "Requirement already satisfied: python-dotenv in c:\\users\\0101567\\appdata\\local\\anaconda3\\envs\\rl-ppo\\lib\\site-packages (from webdriver-manager) (1.0.0)\n",
      "Requirement already satisfied: tqdm in c:\\users\\0101567\\appdata\\local\\anaconda3\\envs\\rl-ppo\\lib\\site-packages (from webdriver-manager) (4.65.0)\n",
      "Requirement already satisfied: packaging in c:\\users\\0101567\\appdata\\local\\anaconda3\\envs\\rl-ppo\\lib\\site-packages (from webdriver-manager) (23.0)\n",
      "Requirement already satisfied: charset-normalizer<3,>=2 in c:\\users\\0101567\\appdata\\local\\anaconda3\\envs\\rl-ppo\\lib\\site-packages (from requests->webdriver-manager) (2.1.1)\n",
      "Requirement already satisfied: idna<4,>=2.5 in c:\\users\\0101567\\appdata\\local\\anaconda3\\envs\\rl-ppo\\lib\\site-packages (from requests->webdriver-manager) (3.4)\n",
      "Requirement already satisfied: urllib3<1.27,>=1.21.1 in c:\\users\\0101567\\appdata\\local\\anaconda3\\envs\\rl-ppo\\lib\\site-packages (from requests->webdriver-manager) (1.26.13)\n",
      "Requirement already satisfied: certifi>=2017.4.17 in c:\\users\\0101567\\appdata\\local\\anaconda3\\envs\\rl-ppo\\lib\\site-packages (from requests->webdriver-manager) (2022.12.7)\n",
      "Requirement already satisfied: colorama in c:\\users\\0101567\\appdata\\local\\anaconda3\\envs\\rl-ppo\\lib\\site-packages (from tqdm->webdriver-manager) (0.4.6)\n",
      "Requirement already satisfied: beautifulsoup4 in c:\\users\\0101567\\appdata\\local\\anaconda3\\envs\\rl-ppo\\lib\\site-packages (4.12.2)\n",
      "Requirement already satisfied: soupsieve>1.2 in c:\\users\\0101567\\appdata\\local\\anaconda3\\envs\\rl-ppo\\lib\\site-packages (from beautifulsoup4) (2.4)\n"
     ]
    }
   ],
   "source": [
    "!pip install git+https://github.com/charliewolf/pynder.git@5d2104d21cdea6ad07166a45c3e91864113d6e3e\n",
    "!pip install selenium\n",
    "!pip install webdriver-manager\n",
    "!pip install beautifulsoup4"
   ]
  },
  {
   "cell_type": "code",
   "execution_count": 21,
   "id": "3f3f8703",
   "metadata": {},
   "outputs": [
    {
     "name": "stdout",
     "output_type": "stream",
     "text": [
      "press enter once you logged in\n",
      "\n",
      "XAuthToken: c2379dae-9f47-4a68-8c0c-81eba235091a\n"
     ]
    }
   ],
   "source": [
    "import re\n",
    "from webdriver_manager.chrome import ChromeDriverManager\n",
    "from bs4 import BeautifulSoup\n",
    "from selenium import webdriver\n",
    "from selenium.webdriver.chrome.service import Service as ChromeService\n",
    "from webdriver_manager.chrome import ChromeDriverManager\n",
    "import requests\n",
    "\n",
    "def parse_auth(html_doc):\n",
    "    soup = BeautifulSoup(html_doc, 'html.parser')\n",
    "    script_content = soup.find(type=\"text/javascript\").string\n",
    "    access_token_string = re.search('access_token=[a-zA-Z0-9]*&', script_content).group(0)\n",
    "    access_token_string_modified = re.search('[a-zA-Z0-9]*&', access_token_string).group(0)\n",
    "    access_token_string_final = re.search('[a-zA-Z0-9]*', access_token_string_modified).group(0)\n",
    "\n",
    "    return access_token_string_final\n",
    "\n",
    "\n",
    "def get_xauth_token(long_token):\n",
    "    \"\"\"Retrieves the XAuthToken using the access_token_string\"\"\"\n",
    "    USER_AGENT = \"Tinder/7.5.3 (iPhone; iOS 10.3.2; Scale/2.00)\"\n",
    "\n",
    "    HEADERS = {\n",
    "        'app_version': '6.9.4',\n",
    "        'platform': 'ios',\n",
    "        \"content-type\": \"application/json\",\n",
    "        \"User-agent\": USER_AGENT,\n",
    "        \"Accept\": \"application/json\"\n",
    "    }\n",
    "\n",
    "    new_url = 'https://api.gotinder.com/v2/auth/login/facebook'\n",
    "    new_data = {\"token\": long_token}\n",
    "    r_new = requests.post(new_url, headers=HEADERS, json=new_data)\n",
    "\n",
    "    return r_new.json()\n",
    "\n",
    "\n",
    "\n",
    "driver = webdriver.Chrome(service=ChromeService(ChromeDriverManager().install()))\n",
    "driver.get(\n",
    "        \"https://www.facebook.com/v2.6/dialog/oauth?redirect_uri=fb464891386855067%3A%2F%2Fauthorize%2F&scope=user_birthday%2Cuser_photos%2Cuser_education_history%2Cemail%2Cuser_relationship_details%2Cuser_friends%2Cuser_work_history%2Cuser_likes&response_type=token%2Csigned_request&client_id=464891386855067&ret=login&fallback_redirect_uri=221e1158-f2e9-1452-1a05-8983f99f7d6e&ext=1556057433&hash=Aea6jWwMP_tDMQ9y\")\n",
    "\n",
    "input(\"press enter once you logged in\")\n",
    "long_token = parse_auth(driver.page_source)\n",
    "driver.close()\n",
    "xauth = get_xauth_token(long_token)['data']['api_token']\n",
    "print(f\"\\nXAuthToken: {xauth}\")\n",
    "\n",
    "\n"
   ]
  },
  {
   "cell_type": "code",
   "execution_count": 22,
   "id": "8f2c8259",
   "metadata": {},
   "outputs": [
    {
     "ename": "RequestError",
     "evalue": "400",
     "output_type": "error",
     "traceback": [
      "\u001b[1;31m---------------------------------------------------------------------------\u001b[0m",
      "\u001b[1;31mRequestError\u001b[0m                              Traceback (most recent call last)",
      "Cell \u001b[1;32mIn[22], line 8\u001b[0m\n\u001b[0;32m      6\u001b[0m XAuthToken \u001b[38;5;241m=\u001b[39m \u001b[38;5;124m'\u001b[39m\u001b[38;5;124mc2379dae-9f47-4a68-8c0c-81eba235091a\u001b[39m\u001b[38;5;124m'\u001b[39m\n\u001b[0;32m      7\u001b[0m session \u001b[38;5;241m=\u001b[39m pynder\u001b[38;5;241m.\u001b[39mSession(XAuthToken\u001b[38;5;241m=\u001b[39mXAuthToken)\n\u001b[1;32m----> 8\u001b[0m \u001b[43msession\u001b[49m\u001b[38;5;241;43m.\u001b[39;49m\u001b[43mupdate_location\u001b[49m\u001b[43m(\u001b[49m\u001b[38;5;241;43m55.671865\u001b[39;49m\u001b[43m,\u001b[49m\u001b[43m \u001b[49m\u001b[38;5;241;43m12.483533\u001b[39;49m\u001b[43m)\u001b[49m\n\u001b[0;32m     10\u001b[0m users \u001b[38;5;241m=\u001b[39m session\u001b[38;5;241m.\u001b[39mnearby_users()\n\u001b[0;32m     11\u001b[0m \u001b[38;5;28;01mfor\u001b[39;00m user \u001b[38;5;129;01min\u001b[39;00m users:\n",
      "File \u001b[1;32m~\\AppData\\Local\\anaconda3\\envs\\rl-ppo\\lib\\site-packages\\pynder\\session.py:38\u001b[0m, in \u001b[0;36mSession.update_location\u001b[1;34m(self, latitude, longitude)\u001b[0m\n\u001b[0;32m     37\u001b[0m \u001b[38;5;28;01mdef\u001b[39;00m \u001b[38;5;21mupdate_location\u001b[39m(\u001b[38;5;28mself\u001b[39m, latitude, longitude):\n\u001b[1;32m---> 38\u001b[0m     \u001b[38;5;28;01mreturn\u001b[39;00m \u001b[38;5;28;43mself\u001b[39;49m\u001b[38;5;241;43m.\u001b[39;49m\u001b[43m_api\u001b[49m\u001b[38;5;241;43m.\u001b[39;49m\u001b[43mping\u001b[49m\u001b[43m(\u001b[49m\u001b[43mlatitude\u001b[49m\u001b[43m,\u001b[49m\u001b[43m \u001b[49m\u001b[43mlongitude\u001b[49m\u001b[43m)\u001b[49m\n",
      "File \u001b[1;32m~\\AppData\\Local\\anaconda3\\envs\\rl-ppo\\lib\\site-packages\\pynder\\api.py:90\u001b[0m, in \u001b[0;36mTinderAPI.ping\u001b[1;34m(self, lat, lon)\u001b[0m\n\u001b[0;32m     89\u001b[0m \u001b[38;5;28;01mdef\u001b[39;00m \u001b[38;5;21mping\u001b[39m(\u001b[38;5;28mself\u001b[39m, lat, lon):\n\u001b[1;32m---> 90\u001b[0m     \u001b[38;5;28;01mreturn\u001b[39;00m \u001b[38;5;28;43mself\u001b[39;49m\u001b[38;5;241;43m.\u001b[39;49m\u001b[43m_post\u001b[49m\u001b[43m(\u001b[49m\u001b[38;5;124;43m\"\u001b[39;49m\u001b[38;5;124;43m/user/ping\u001b[39;49m\u001b[38;5;124;43m\"\u001b[39;49m\u001b[43m,\u001b[49m\u001b[43m \u001b[49m\u001b[43m{\u001b[49m\u001b[38;5;124;43m\"\u001b[39;49m\u001b[38;5;124;43mlat\u001b[39;49m\u001b[38;5;124;43m\"\u001b[39;49m\u001b[43m:\u001b[49m\u001b[43m \u001b[49m\u001b[43mlat\u001b[49m\u001b[43m,\u001b[49m\u001b[43m \u001b[49m\u001b[38;5;124;43m\"\u001b[39;49m\u001b[38;5;124;43mlon\u001b[39;49m\u001b[38;5;124;43m\"\u001b[39;49m\u001b[43m:\u001b[49m\u001b[43m \u001b[49m\u001b[43mlon\u001b[49m\u001b[43m}\u001b[49m\u001b[43m)\u001b[49m\n",
      "File \u001b[1;32m~\\AppData\\Local\\anaconda3\\envs\\rl-ppo\\lib\\site-packages\\pynder\\api.py:50\u001b[0m, in \u001b[0;36mTinderAPI._post\u001b[1;34m(self, url, data)\u001b[0m\n\u001b[0;32m     49\u001b[0m \u001b[38;5;28;01mdef\u001b[39;00m \u001b[38;5;21m_post\u001b[39m(\u001b[38;5;28mself\u001b[39m, url, data\u001b[38;5;241m=\u001b[39m{}):\n\u001b[1;32m---> 50\u001b[0m     \u001b[38;5;28;01mreturn\u001b[39;00m \u001b[38;5;28;43mself\u001b[39;49m\u001b[38;5;241;43m.\u001b[39;49m\u001b[43m_request\u001b[49m\u001b[43m(\u001b[49m\u001b[38;5;124;43m\"\u001b[39;49m\u001b[38;5;124;43mpost\u001b[39;49m\u001b[38;5;124;43m\"\u001b[39;49m\u001b[43m,\u001b[49m\u001b[43m \u001b[49m\u001b[43murl\u001b[49m\u001b[43m,\u001b[49m\u001b[43m \u001b[49m\u001b[43mdata\u001b[49m\u001b[38;5;241;43m=\u001b[39;49m\u001b[43mdata\u001b[49m\u001b[43m)\u001b[49m\n",
      "File \u001b[1;32m~\\AppData\\Local\\anaconda3\\envs\\rl-ppo\\lib\\site-packages\\pynder\\api.py:41\u001b[0m, in \u001b[0;36mTinderAPI._request\u001b[1;34m(self, method, url, data)\u001b[0m\n\u001b[0;32m     38\u001b[0m     result \u001b[38;5;241m=\u001b[39m \u001b[38;5;28mself\u001b[39m\u001b[38;5;241m.\u001b[39m_session\u001b[38;5;241m.\u001b[39mrequest(method, \u001b[38;5;28mself\u001b[39m\u001b[38;5;241m.\u001b[39m_url(\n\u001b[0;32m     39\u001b[0m         url), data\u001b[38;5;241m=\u001b[39mdata, proxies\u001b[38;5;241m=\u001b[39m\u001b[38;5;28mself\u001b[39m\u001b[38;5;241m.\u001b[39m_proxies)\n\u001b[0;32m     40\u001b[0m \u001b[38;5;28;01mif\u001b[39;00m result\u001b[38;5;241m.\u001b[39mstatus_code \u001b[38;5;241m<\u001b[39m \u001b[38;5;241m200\u001b[39m \u001b[38;5;129;01mor\u001b[39;00m result\u001b[38;5;241m.\u001b[39mstatus_code \u001b[38;5;241m>\u001b[39m\u001b[38;5;241m=\u001b[39m \u001b[38;5;241m300\u001b[39m:\n\u001b[1;32m---> 41\u001b[0m     \u001b[38;5;28;01mraise\u001b[39;00m errors\u001b[38;5;241m.\u001b[39mRequestError(result\u001b[38;5;241m.\u001b[39mstatus_code)\n\u001b[0;32m     42\u001b[0m \u001b[38;5;28;01mif\u001b[39;00m result\u001b[38;5;241m.\u001b[39mstatus_code \u001b[38;5;241m==\u001b[39m \u001b[38;5;241m201\u001b[39m \u001b[38;5;129;01mor\u001b[39;00m result\u001b[38;5;241m.\u001b[39mstatus_code \u001b[38;5;241m==\u001b[39m \u001b[38;5;241m204\u001b[39m:\n\u001b[0;32m     43\u001b[0m     \u001b[38;5;28;01mreturn\u001b[39;00m {}\n",
      "\u001b[1;31mRequestError\u001b[0m: 400"
     ]
    }
   ],
   "source": [
    "import pynder\n",
    "import urllib.request\n",
    "\n",
    "\n",
    "\n",
    "XAuthToken = 'c2379dae-9f47-4a68-8c0c-81eba235091a'\n",
    "session = pynder.Session(XAuthToken=XAuthToken)\n",
    "session.update_location(55.671865, 12.483533)\n",
    "\n",
    "users = session.nearby_users()\n",
    "for user in users:\n",
    "    photos: []\n",
    "    photos = user.get_photos()\n",
    "    cnt = 0\n",
    "    for photo in photos:\n",
    "        image_name = \"data/downloads/\" + user.name + \"_\" + str(cnt) + \"_\" + str(user.age) + \"_\" + user.id + \".jpg\"\n",
    "        urllib.request.urlretrieve(photo, image_name)\n",
    "        cnt += 1\n",
    "        print(image_name)\n",
    "\n",
    "\n"
   ]
  },
  {
   "cell_type": "code",
   "execution_count": null,
   "id": "c23d9a7f",
   "metadata": {},
   "outputs": [],
   "source": []
  }
 ],
 "metadata": {
  "kernelspec": {
   "display_name": "Python 3 (ipykernel)",
   "language": "python",
   "name": "python3"
  },
  "language_info": {
   "codemirror_mode": {
    "name": "ipython",
    "version": 3
   },
   "file_extension": ".py",
   "mimetype": "text/x-python",
   "name": "python",
   "nbconvert_exporter": "python",
   "pygments_lexer": "ipython3",
   "version": "3.10.9"
  }
 },
 "nbformat": 4,
 "nbformat_minor": 5
}
